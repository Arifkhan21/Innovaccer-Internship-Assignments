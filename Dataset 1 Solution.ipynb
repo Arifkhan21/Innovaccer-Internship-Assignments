{
 "cells": [
  {
   "cell_type": "markdown",
   "metadata": {},
   "source": [
    "## Importing Libraries"
   ]
  },
  {
   "cell_type": "code",
   "execution_count": 1,
   "metadata": {},
   "outputs": [],
   "source": [
    "import numpy as np\n",
    "import pandas as pd\n",
    "import matplotlib.pyplot as plt\n",
    "from sklearn.naive_bayes import BernoulliNB\n",
    "from sklearn.tree import DecisionTreeClassifier\n",
    "from sklearn.model_selection import StratifiedKFold\n",
    "from sklearn.feature_selection import RFECV\n",
    "from sklearn.preprocessing import LabelEncoder\n",
    "from sklearn.model_selection import train_test_split\n",
    "\n"
   ]
  },
  {
   "cell_type": "markdown",
   "metadata": {},
   "source": [
    "## Reading Dataset using Pandas"
   ]
  },
  {
   "cell_type": "code",
   "execution_count": 26,
   "metadata": {},
   "outputs": [],
   "source": [
    "Dataset = pd.read_excel('Potential datasets for recruitment.xlsx','Dataset 1')"
   ]
  },
  {
   "cell_type": "code",
   "execution_count": 27,
   "metadata": {},
   "outputs": [
    {
     "data": {
      "text/html": [
       "<div>\n",
       "<style scoped>\n",
       "    .dataframe tbody tr th:only-of-type {\n",
       "        vertical-align: middle;\n",
       "    }\n",
       "\n",
       "    .dataframe tbody tr th {\n",
       "        vertical-align: top;\n",
       "    }\n",
       "\n",
       "    .dataframe thead th {\n",
       "        text-align: right;\n",
       "    }\n",
       "</style>\n",
       "<table border=\"1\" class=\"dataframe\">\n",
       "  <thead>\n",
       "    <tr style=\"text-align: right;\">\n",
       "      <th></th>\n",
       "      <th>User country</th>\n",
       "      <th>Nr. reviews</th>\n",
       "      <th>Nr. hotel reviews</th>\n",
       "      <th>Helpful votes</th>\n",
       "      <th>Score</th>\n",
       "      <th>Period of stay</th>\n",
       "      <th>Traveler type</th>\n",
       "      <th>Swimming Pool</th>\n",
       "      <th>Exercise Room</th>\n",
       "      <th>Basketball Court</th>\n",
       "      <th>Yoga Classes</th>\n",
       "      <th>Club</th>\n",
       "      <th>Free Wifi</th>\n",
       "      <th>Hotel name</th>\n",
       "      <th>Hotel stars</th>\n",
       "      <th>Nr. rooms</th>\n",
       "      <th>User continent</th>\n",
       "      <th>Member years</th>\n",
       "      <th>Review month</th>\n",
       "      <th>Review weekday</th>\n",
       "    </tr>\n",
       "  </thead>\n",
       "  <tbody>\n",
       "    <tr>\n",
       "      <th>0</th>\n",
       "      <td>USA</td>\n",
       "      <td>11</td>\n",
       "      <td>4</td>\n",
       "      <td>13</td>\n",
       "      <td>5</td>\n",
       "      <td>Dec-Feb</td>\n",
       "      <td>Friends</td>\n",
       "      <td>NO</td>\n",
       "      <td>YES</td>\n",
       "      <td>NO</td>\n",
       "      <td>NO</td>\n",
       "      <td>YES</td>\n",
       "      <td>YES</td>\n",
       "      <td>Circus Circus Hotel &amp; Casino Las Vegas</td>\n",
       "      <td>3</td>\n",
       "      <td>3773</td>\n",
       "      <td>North America</td>\n",
       "      <td>9</td>\n",
       "      <td>January</td>\n",
       "      <td>Thursday</td>\n",
       "    </tr>\n",
       "    <tr>\n",
       "      <th>1</th>\n",
       "      <td>USA</td>\n",
       "      <td>119</td>\n",
       "      <td>21</td>\n",
       "      <td>75</td>\n",
       "      <td>3</td>\n",
       "      <td>Dec-Feb</td>\n",
       "      <td>Business</td>\n",
       "      <td>NO</td>\n",
       "      <td>YES</td>\n",
       "      <td>NO</td>\n",
       "      <td>NO</td>\n",
       "      <td>YES</td>\n",
       "      <td>YES</td>\n",
       "      <td>Circus Circus Hotel &amp; Casino Las Vegas</td>\n",
       "      <td>3</td>\n",
       "      <td>3773</td>\n",
       "      <td>North America</td>\n",
       "      <td>3</td>\n",
       "      <td>January</td>\n",
       "      <td>Friday</td>\n",
       "    </tr>\n",
       "    <tr>\n",
       "      <th>2</th>\n",
       "      <td>USA</td>\n",
       "      <td>36</td>\n",
       "      <td>9</td>\n",
       "      <td>25</td>\n",
       "      <td>5</td>\n",
       "      <td>Mar-May</td>\n",
       "      <td>Families</td>\n",
       "      <td>NO</td>\n",
       "      <td>YES</td>\n",
       "      <td>NO</td>\n",
       "      <td>NO</td>\n",
       "      <td>YES</td>\n",
       "      <td>YES</td>\n",
       "      <td>Circus Circus Hotel &amp; Casino Las Vegas</td>\n",
       "      <td>3</td>\n",
       "      <td>3773</td>\n",
       "      <td>North America</td>\n",
       "      <td>2</td>\n",
       "      <td>February</td>\n",
       "      <td>Saturday</td>\n",
       "    </tr>\n",
       "    <tr>\n",
       "      <th>3</th>\n",
       "      <td>UK</td>\n",
       "      <td>14</td>\n",
       "      <td>7</td>\n",
       "      <td>14</td>\n",
       "      <td>4</td>\n",
       "      <td>Mar-May</td>\n",
       "      <td>Friends</td>\n",
       "      <td>NO</td>\n",
       "      <td>YES</td>\n",
       "      <td>NO</td>\n",
       "      <td>NO</td>\n",
       "      <td>YES</td>\n",
       "      <td>YES</td>\n",
       "      <td>Circus Circus Hotel &amp; Casino Las Vegas</td>\n",
       "      <td>3</td>\n",
       "      <td>3773</td>\n",
       "      <td>Europe</td>\n",
       "      <td>6</td>\n",
       "      <td>February</td>\n",
       "      <td>Friday</td>\n",
       "    </tr>\n",
       "    <tr>\n",
       "      <th>4</th>\n",
       "      <td>Canada</td>\n",
       "      <td>5</td>\n",
       "      <td>5</td>\n",
       "      <td>2</td>\n",
       "      <td>4</td>\n",
       "      <td>Mar-May</td>\n",
       "      <td>Solo</td>\n",
       "      <td>NO</td>\n",
       "      <td>YES</td>\n",
       "      <td>NO</td>\n",
       "      <td>NO</td>\n",
       "      <td>YES</td>\n",
       "      <td>YES</td>\n",
       "      <td>Circus Circus Hotel &amp; Casino Las Vegas</td>\n",
       "      <td>3</td>\n",
       "      <td>3773</td>\n",
       "      <td>North America</td>\n",
       "      <td>7</td>\n",
       "      <td>March</td>\n",
       "      <td>Tuesday</td>\n",
       "    </tr>\n",
       "  </tbody>\n",
       "</table>\n",
       "</div>"
      ],
      "text/plain": [
       "  User country  Nr. reviews  Nr. hotel reviews  Helpful votes  Score  \\\n",
       "0          USA           11                  4             13      5   \n",
       "1          USA          119                 21             75      3   \n",
       "2          USA           36                  9             25      5   \n",
       "3           UK           14                  7             14      4   \n",
       "4       Canada            5                  5              2      4   \n",
       "\n",
       "  Period of stay Traveler type Swimming Pool Exercise Room Basketball Court  \\\n",
       "0        Dec-Feb       Friends            NO           YES               NO   \n",
       "1        Dec-Feb      Business            NO           YES               NO   \n",
       "2        Mar-May      Families            NO           YES               NO   \n",
       "3        Mar-May       Friends            NO           YES               NO   \n",
       "4        Mar-May          Solo            NO           YES               NO   \n",
       "\n",
       "  Yoga Classes Club Free Wifi                              Hotel name  \\\n",
       "0           NO  YES       YES  Circus Circus Hotel & Casino Las Vegas   \n",
       "1           NO  YES       YES  Circus Circus Hotel & Casino Las Vegas   \n",
       "2           NO  YES       YES  Circus Circus Hotel & Casino Las Vegas   \n",
       "3           NO  YES       YES  Circus Circus Hotel & Casino Las Vegas   \n",
       "4           NO  YES       YES  Circus Circus Hotel & Casino Las Vegas   \n",
       "\n",
       "  Hotel stars  Nr. rooms User continent  Member years Review month  \\\n",
       "0           3       3773  North America             9      January   \n",
       "1           3       3773  North America             3      January   \n",
       "2           3       3773  North America             2     February   \n",
       "3           3       3773         Europe             6     February   \n",
       "4           3       3773  North America             7        March   \n",
       "\n",
       "  Review weekday  \n",
       "0       Thursday  \n",
       "1         Friday  \n",
       "2       Saturday  \n",
       "3         Friday  \n",
       "4        Tuesday  "
      ]
     },
     "execution_count": 27,
     "metadata": {},
     "output_type": "execute_result"
    }
   ],
   "source": [
    "Dataset.head()"
   ]
  },
  {
   "cell_type": "markdown",
   "metadata": {},
   "source": [
    "## Data Visualization"
   ]
  },
  {
   "cell_type": "code",
   "execution_count": 28,
   "metadata": {},
   "outputs": [
    {
     "name": "stdout",
     "output_type": "stream",
     "text": [
      "(504, 20)\n"
     ]
    },
    {
     "data": {
      "image/png": "[encoded data removed]",
      "text/plain": [
       "<Figure size 720x720 with 1 Axes>"
      ]
     },
     "metadata": {},
     "output_type": "display_data"
    },
    {
     "data": {
      "image/png": "[encoded data removed]",
      "text/plain": [
       "<Figure size 720x720 with 1 Axes>"
      ]
     },
     "metadata": {
      "needs_background": "light"
     },
     "output_type": "display_data"
    }
   ],
   "source": [
    "vals=[]\n",
    "temp_data = Dataset.values\n",
    "print(temp_data.shape)\n",
    "for ix in range(1,6):\n",
    "    val = np.sum([temp_data[:,4]==ix])\n",
    "    vals.append(val)    \n",
    "\n",
    "    \n",
    "  ##------>> Pie Chart  \n",
    "target = ('Score 1','Score 2','Score 3','Score 4','Score 5')\n",
    "sizes=vals\n",
    "explode=(0,0,0,0,0.1)\n",
    "fig1, ax1 = plt.subplots(1,1,figsize=(10,10))\n",
    "ax1.pie(sizes, explode=explode, labels=target,shadow='true', autopct='%1.1f%%', startangle=90)\n",
    "ax1.axis('equal')  # Equal aspect ratio ensures that pie is drawn as a circle.\n",
    "ax1.legend()\n",
    "ax1.set_title('Target Scores Distribution ')\n",
    "\n",
    "  ##------>>Bar Graph\n",
    "# plt.bar(vals,)\n",
    "# plt.bar(x=target,height=vals,orientation='horizontal')\n",
    "y_pos=np.arange(len(target))\n",
    "fig2,ax2 = plt.subplots(figsize=(10,10))\n",
    "error = np.random.rand(len(target))*10\n",
    "ax2.barh(y_pos,vals,align='center',xerr=error,color='skyblue',ecolor='black')\n",
    "ax2.set_title(\"Target Scores Distribution\")\n",
    "\n",
    "ax2.set_xlabel('Number or Reviews')\n",
    "ax2.invert_yaxis()\n",
    "ax2.set_yticks(y_pos)\n",
    "ax2.set_yticklabels(target)\n",
    "plt.show()\n"
   ]
  },
  {
   "cell_type": "markdown",
   "metadata": {},
   "source": [
    "Looks Like the most of the reviewers have given a score of 5,4 "
   ]
  },
  {
   "cell_type": "markdown",
   "metadata": {},
   "source": [
    "## Checking for any Missing Values in data before LabelEncoding"
   ]
  },
  {
   "cell_type": "code",
   "execution_count": 40,
   "metadata": {},
   "outputs": [],
   "source": [
    "# for col in Dataset.columns:\n",
    "#     print(np.unique(Dataset[col]))"
   ]
  },
  {
   "cell_type": "markdown",
   "metadata": {},
   "source": [
    "## After seeing all unique values in each column I Found 'Members Years' and 'Hotel Stars' have bad Datapoins which need to be cleaned "
   ]
  },
  {
   "cell_type": "code",
   "execution_count": 38,
   "metadata": {},
   "outputs": [],
   "source": [
    "arr = Dataset['Hotel stars']=='3,5'\n",
    "\n",
    "for ix in range(arr.shape[0]):\n",
    "    if arr[ix]:\n",
    "        Dataset['Hotel stars'][ix] = 3\n",
    "        \n",
    "        \n",
    "arr = Dataset['Hotel stars']=='4,5'\n",
    "\n",
    "for ix in range(arr.shape[0]):\n",
    "    if arr[ix]:\n",
    "        Dataset['Hotel stars'][ix] = 4      \n",
    "        \n",
    "arr = Dataset['Member years']==-1806\n",
    "\n",
    "for ix in range(arr.shape[0]):\n",
    "    if arr[ix]:\n",
    "        Dataset['Member years'][ix] = 5"
   ]
  },
  {
   "cell_type": "code",
   "execution_count": null,
   "metadata": {},
   "outputs": [],
   "source": []
  },
  {
   "cell_type": "markdown",
   "metadata": {},
   "source": [
    "## Encoding Catagorical Data into values with LabelEncoder"
   ]
  },
  {
   "cell_type": "code",
   "execution_count": 5,
   "metadata": {},
   "outputs": [
    {
     "data": {
      "text/html": [
       "<div>\n",
       "<style scoped>\n",
       "    .dataframe tbody tr th:only-of-type {\n",
       "        vertical-align: middle;\n",
       "    }\n",
       "\n",
       "    .dataframe tbody tr th {\n",
       "        vertical-align: top;\n",
       "    }\n",
       "\n",
       "    .dataframe thead th {\n",
       "        text-align: right;\n",
       "    }\n",
       "</style>\n",
       "<table border=\"1\" class=\"dataframe\">\n",
       "  <thead>\n",
       "    <tr style=\"text-align: right;\">\n",
       "      <th></th>\n",
       "      <th>User country</th>\n",
       "      <th>Nr. reviews</th>\n",
       "      <th>Nr. hotel reviews</th>\n",
       "      <th>Helpful votes</th>\n",
       "      <th>Score</th>\n",
       "      <th>Period of stay</th>\n",
       "      <th>Traveler type</th>\n",
       "      <th>Swimming Pool</th>\n",
       "      <th>Exercise Room</th>\n",
       "      <th>Basketball Court</th>\n",
       "      <th>Yoga Classes</th>\n",
       "      <th>Club</th>\n",
       "      <th>Free Wifi</th>\n",
       "      <th>Hotel name</th>\n",
       "      <th>Hotel stars</th>\n",
       "      <th>Nr. rooms</th>\n",
       "      <th>User continent</th>\n",
       "      <th>Member years</th>\n",
       "      <th>Review month</th>\n",
       "      <th>Review weekday</th>\n",
       "    </tr>\n",
       "  </thead>\n",
       "  <tbody>\n",
       "    <tr>\n",
       "      <th>0</th>\n",
       "      <td>46</td>\n",
       "      <td>10</td>\n",
       "      <td>3</td>\n",
       "      <td>13</td>\n",
       "      <td>4</td>\n",
       "      <td>0</td>\n",
       "      <td>3</td>\n",
       "      <td>0</td>\n",
       "      <td>1</td>\n",
       "      <td>0</td>\n",
       "      <td>0</td>\n",
       "      <td>1</td>\n",
       "      <td>1</td>\n",
       "      <td>2</td>\n",
       "      <td>0</td>\n",
       "      <td>17</td>\n",
       "      <td>3</td>\n",
       "      <td>10</td>\n",
       "      <td>4</td>\n",
       "      <td>4</td>\n",
       "    </tr>\n",
       "    <tr>\n",
       "      <th>1</th>\n",
       "      <td>46</td>\n",
       "      <td>99</td>\n",
       "      <td>20</td>\n",
       "      <td>66</td>\n",
       "      <td>2</td>\n",
       "      <td>0</td>\n",
       "      <td>0</td>\n",
       "      <td>0</td>\n",
       "      <td>1</td>\n",
       "      <td>0</td>\n",
       "      <td>0</td>\n",
       "      <td>1</td>\n",
       "      <td>1</td>\n",
       "      <td>2</td>\n",
       "      <td>0</td>\n",
       "      <td>17</td>\n",
       "      <td>3</td>\n",
       "      <td>4</td>\n",
       "      <td>4</td>\n",
       "      <td>0</td>\n",
       "    </tr>\n",
       "    <tr>\n",
       "      <th>2</th>\n",
       "      <td>46</td>\n",
       "      <td>35</td>\n",
       "      <td>8</td>\n",
       "      <td>25</td>\n",
       "      <td>4</td>\n",
       "      <td>2</td>\n",
       "      <td>2</td>\n",
       "      <td>0</td>\n",
       "      <td>1</td>\n",
       "      <td>0</td>\n",
       "      <td>0</td>\n",
       "      <td>1</td>\n",
       "      <td>1</td>\n",
       "      <td>2</td>\n",
       "      <td>0</td>\n",
       "      <td>17</td>\n",
       "      <td>3</td>\n",
       "      <td>3</td>\n",
       "      <td>3</td>\n",
       "      <td>2</td>\n",
       "    </tr>\n",
       "    <tr>\n",
       "      <th>3</th>\n",
       "      <td>45</td>\n",
       "      <td>13</td>\n",
       "      <td>6</td>\n",
       "      <td>14</td>\n",
       "      <td>3</td>\n",
       "      <td>2</td>\n",
       "      <td>3</td>\n",
       "      <td>0</td>\n",
       "      <td>1</td>\n",
       "      <td>0</td>\n",
       "      <td>0</td>\n",
       "      <td>1</td>\n",
       "      <td>1</td>\n",
       "      <td>2</td>\n",
       "      <td>0</td>\n",
       "      <td>17</td>\n",
       "      <td>2</td>\n",
       "      <td>7</td>\n",
       "      <td>3</td>\n",
       "      <td>0</td>\n",
       "    </tr>\n",
       "    <tr>\n",
       "      <th>4</th>\n",
       "      <td>3</td>\n",
       "      <td>4</td>\n",
       "      <td>4</td>\n",
       "      <td>2</td>\n",
       "      <td>3</td>\n",
       "      <td>2</td>\n",
       "      <td>4</td>\n",
       "      <td>0</td>\n",
       "      <td>1</td>\n",
       "      <td>0</td>\n",
       "      <td>0</td>\n",
       "      <td>1</td>\n",
       "      <td>1</td>\n",
       "      <td>2</td>\n",
       "      <td>0</td>\n",
       "      <td>17</td>\n",
       "      <td>3</td>\n",
       "      <td>8</td>\n",
       "      <td>7</td>\n",
       "      <td>5</td>\n",
       "    </tr>\n",
       "  </tbody>\n",
       "</table>\n",
       "</div>"
      ],
      "text/plain": [
       "   User country  Nr. reviews  Nr. hotel reviews  Helpful votes  Score  \\\n",
       "0            46           10                  3             13      4   \n",
       "1            46           99                 20             66      2   \n",
       "2            46           35                  8             25      4   \n",
       "3            45           13                  6             14      3   \n",
       "4             3            4                  4              2      3   \n",
       "\n",
       "   Period of stay  Traveler type  Swimming Pool  Exercise Room  \\\n",
       "0               0              3              0              1   \n",
       "1               0              0              0              1   \n",
       "2               2              2              0              1   \n",
       "3               2              3              0              1   \n",
       "4               2              4              0              1   \n",
       "\n",
       "   Basketball Court  Yoga Classes  Club  Free Wifi  Hotel name  Hotel stars  \\\n",
       "0                 0             0     1          1           2            0   \n",
       "1                 0             0     1          1           2            0   \n",
       "2                 0             0     1          1           2            0   \n",
       "3                 0             0     1          1           2            0   \n",
       "4                 0             0     1          1           2            0   \n",
       "\n",
       "   Nr. rooms  User continent  Member years  Review month  Review weekday  \n",
       "0         17               3            10             4               4  \n",
       "1         17               3             4             4               0  \n",
       "2         17               3             3             3               2  \n",
       "3         17               2             7             3               0  \n",
       "4         17               3             8             7               5  "
      ]
     },
     "execution_count": 5,
     "metadata": {},
     "output_type": "execute_result"
    }
   ],
   "source": [
    "ds=Dataset\n",
    "le = LabelEncoder()\n",
    "ds = ds.apply(le.fit_transform)\n",
    "ds.head()"
   ]
  },
  {
   "cell_type": "markdown",
   "metadata": {},
   "source": [
    "## Finding Relevant Features  Q. 2\n"
   ]
  },
  {
   "cell_type": "code",
   "execution_count": 6,
   "metadata": {},
   "outputs": [],
   "source": [
    "import seaborn as sns"
   ]
  },
  {
   "cell_type": "code",
   "execution_count": 7,
   "metadata": {},
   "outputs": [
    {
     "data": {
      "text/plain": [
       "<matplotlib.axes._subplots.AxesSubplot at 0x7f0a2b0a3290>"
      ]
     },
     "execution_count": 7,
     "metadata": {},
     "output_type": "execute_result"
    },
    {
     "data": {
      "image/png": "[encoded data removed]",
      "text/plain": [
       "<Figure size 432x288 with 2 Axes>"
      ]
     },
     "metadata": {
      "needs_background": "light"
     },
     "output_type": "display_data"
    }
   ],
   "source": [
    "corr_mat = ds.corr()\n",
    "# sns.heatmap?\n",
    "sns.heatmap(corr_mat,xticklabels=ds.columns,yticklabels=ds.columns,cmap=\"YlGnBu\",linewidths=.5)"
   ]
  },
  {
   "cell_type": "markdown",
   "metadata": {},
   "source": [
    "Heatmap shows that most the features are not corelated hence we cannot eliminate any of them o basis of corelation"
   ]
  },
  {
   "cell_type": "markdown",
   "metadata": {},
   "source": [
    "## Classifying Features Type  "
   ]
  },
  {
   "cell_type": "raw",
   "metadata": {},
   "source": [
    "Co- related Features:-\n",
    "    Nr. reviews\n",
    "    Nr. hotel reviews\n",
    "    helpful Votes\n",
    "    \n",
    "    \n",
    "Non-Meaningful Features:-\n",
    "    User country\n",
    "    Period of stay\n",
    "    Hotel name\n",
    "    User continent\n",
    "    Review month\n",
    "    Review weekday\n",
    "    \n",
    "Relevant Features :-         (After neglecting some of co-related features)\n",
    "    Nr. reviews\n",
    "    Traveler type \n",
    "    Swimming Pool \n",
    "    Exercise Room\n",
    "    Basketball Court\n",
    "    Yoga Classes\n",
    "    Club\n",
    "    Free Wifi\n",
    "    Nr. rooms \n",
    "    User continent\n",
    "    Member years\n",
    "    \n",
    "     "
   ]
  },
  {
   "cell_type": "markdown",
   "metadata": {},
   "source": [
    "## Feature Extraction"
   ]
  },
  {
   "cell_type": "code",
   "execution_count": 8,
   "metadata": {},
   "outputs": [],
   "source": [
    "cols_drop={\n",
    "    'User country',\n",
    "    'Period of stay',\n",
    "    'Hotel name',\n",
    "    'User continent',\n",
    "    'Review month',\n",
    "    'Review weekday',\n",
    "    'Helpful votes',\n",
    "    'Nr. hotel reviews'\n",
    "    \n",
    "}\n",
    "\n",
    "\n"
   ]
  },
  {
   "cell_type": "code",
   "execution_count": 9,
   "metadata": {},
   "outputs": [
    {
     "data": {
      "text/html": [
       "<div>\n",
       "<style scoped>\n",
       "    .dataframe tbody tr th:only-of-type {\n",
       "        vertical-align: middle;\n",
       "    }\n",
       "\n",
       "    .dataframe tbody tr th {\n",
       "        vertical-align: top;\n",
       "    }\n",
       "\n",
       "    .dataframe thead th {\n",
       "        text-align: right;\n",
       "    }\n",
       "</style>\n",
       "<table border=\"1\" class=\"dataframe\">\n",
       "  <thead>\n",
       "    <tr style=\"text-align: right;\">\n",
       "      <th></th>\n",
       "      <th>Nr. reviews</th>\n",
       "      <th>Score</th>\n",
       "      <th>Traveler type</th>\n",
       "      <th>Swimming Pool</th>\n",
       "      <th>Exercise Room</th>\n",
       "      <th>Basketball Court</th>\n",
       "      <th>Yoga Classes</th>\n",
       "      <th>Club</th>\n",
       "      <th>Free Wifi</th>\n",
       "      <th>Hotel stars</th>\n",
       "      <th>Nr. rooms</th>\n",
       "      <th>Member years</th>\n",
       "    </tr>\n",
       "  </thead>\n",
       "  <tbody>\n",
       "    <tr>\n",
       "      <th>0</th>\n",
       "      <td>10</td>\n",
       "      <td>4</td>\n",
       "      <td>3</td>\n",
       "      <td>0</td>\n",
       "      <td>1</td>\n",
       "      <td>0</td>\n",
       "      <td>0</td>\n",
       "      <td>1</td>\n",
       "      <td>1</td>\n",
       "      <td>0</td>\n",
       "      <td>17</td>\n",
       "      <td>10</td>\n",
       "    </tr>\n",
       "    <tr>\n",
       "      <th>1</th>\n",
       "      <td>99</td>\n",
       "      <td>2</td>\n",
       "      <td>0</td>\n",
       "      <td>0</td>\n",
       "      <td>1</td>\n",
       "      <td>0</td>\n",
       "      <td>0</td>\n",
       "      <td>1</td>\n",
       "      <td>1</td>\n",
       "      <td>0</td>\n",
       "      <td>17</td>\n",
       "      <td>4</td>\n",
       "    </tr>\n",
       "    <tr>\n",
       "      <th>2</th>\n",
       "      <td>35</td>\n",
       "      <td>4</td>\n",
       "      <td>2</td>\n",
       "      <td>0</td>\n",
       "      <td>1</td>\n",
       "      <td>0</td>\n",
       "      <td>0</td>\n",
       "      <td>1</td>\n",
       "      <td>1</td>\n",
       "      <td>0</td>\n",
       "      <td>17</td>\n",
       "      <td>3</td>\n",
       "    </tr>\n",
       "    <tr>\n",
       "      <th>3</th>\n",
       "      <td>13</td>\n",
       "      <td>3</td>\n",
       "      <td>3</td>\n",
       "      <td>0</td>\n",
       "      <td>1</td>\n",
       "      <td>0</td>\n",
       "      <td>0</td>\n",
       "      <td>1</td>\n",
       "      <td>1</td>\n",
       "      <td>0</td>\n",
       "      <td>17</td>\n",
       "      <td>7</td>\n",
       "    </tr>\n",
       "    <tr>\n",
       "      <th>4</th>\n",
       "      <td>4</td>\n",
       "      <td>3</td>\n",
       "      <td>4</td>\n",
       "      <td>0</td>\n",
       "      <td>1</td>\n",
       "      <td>0</td>\n",
       "      <td>0</td>\n",
       "      <td>1</td>\n",
       "      <td>1</td>\n",
       "      <td>0</td>\n",
       "      <td>17</td>\n",
       "      <td>8</td>\n",
       "    </tr>\n",
       "  </tbody>\n",
       "</table>\n",
       "</div>"
      ],
      "text/plain": [
       "   Nr. reviews  Score  Traveler type  Swimming Pool  Exercise Room  \\\n",
       "0           10      4              3              0              1   \n",
       "1           99      2              0              0              1   \n",
       "2           35      4              2              0              1   \n",
       "3           13      3              3              0              1   \n",
       "4            4      3              4              0              1   \n",
       "\n",
       "   Basketball Court  Yoga Classes  Club  Free Wifi  Hotel stars  Nr. rooms  \\\n",
       "0                 0             0     1          1            0         17   \n",
       "1                 0             0     1          1            0         17   \n",
       "2                 0             0     1          1            0         17   \n",
       "3                 0             0     1          1            0         17   \n",
       "4                 0             0     1          1            0         17   \n",
       "\n",
       "   Member years  \n",
       "0            10  \n",
       "1             4  \n",
       "2             3  \n",
       "3             7  \n",
       "4             8  "
      ]
     },
     "execution_count": 9,
     "metadata": {},
     "output_type": "execute_result"
    }
   ],
   "source": [
    "ds = Dataset.drop(cols_drop,axis=1)\n",
    "ds=ds.apply(le.fit_transform)\n",
    "x_=ds.values\n",
    "x_=np.array(x_)\n",
    "np.random.shuffle(x_)\n",
    "ds.head()"
   ]
  },
  {
   "cell_type": "markdown",
   "metadata": {},
   "source": [
    "## HeatMap After Removing Co-Related features "
   ]
  },
  {
   "cell_type": "code",
   "execution_count": 10,
   "metadata": {},
   "outputs": [
    {
     "data": {
      "text/plain": [
       "<matplotlib.axes._subplots.AxesSubplot at 0x7f0a2a73a090>"
      ]
     },
     "execution_count": 10,
     "metadata": {},
     "output_type": "execute_result"
    },
    {
     "data": {
      "image/png": "[encoded data removed]",
      "text/plain": [
       "<Figure size 432x288 with 2 Axes>"
      ]
     },
     "metadata": {
      "needs_background": "light"
     },
     "output_type": "display_data"
    }
   ],
   "source": [
    "corr_mat = ds.corr()\n",
    "# sns.heatmap?\n",
    "sns.heatmap(corr_mat,xticklabels=ds.columns,yticklabels=ds.columns,cmap=\"YlGnBu\",linewidths=.5)"
   ]
  },
  {
   "cell_type": "markdown",
   "metadata": {},
   "source": [
    "## Seperating Target values and Feature Values"
   ]
  },
  {
   "cell_type": "code",
   "execution_count": 11,
   "metadata": {},
   "outputs": [
    {
     "name": "stdout",
     "output_type": "stream",
     "text": [
      "[1 2 3 4 5]\n"
     ]
    }
   ],
   "source": [
    "data_y = x_[:,1]\n",
    "data_y=data_y+1\n",
    "data_y= np.array(data_y)\n",
    "print(np.unique(data_y))\n"
   ]
  },
  {
   "cell_type": "code",
   "execution_count": 12,
   "metadata": {},
   "outputs": [
    {
     "data": {
      "text/plain": [
       "(504, 11)"
      ]
     },
     "execution_count": 12,
     "metadata": {},
     "output_type": "execute_result"
    }
   ],
   "source": [
    "data_x=ds.drop('Score',axis=1)\n",
    "data_x_v =data_x.values\n",
    "data_x_v.shape"
   ]
  },
  {
   "cell_type": "markdown",
   "metadata": {},
   "source": [
    "## Slicing Data for Training and Testing"
   ]
  },
  {
   "cell_type": "code",
   "execution_count": 13,
   "metadata": {},
   "outputs": [],
   "source": [
    "x_train,x_test,y_train,y_test = train_test_split(data_x_v,data_y,test_size=0.2)"
   ]
  },
  {
   "cell_type": "markdown",
   "metadata": {},
   "source": [
    "## Q. 1 Building Classification Models"
   ]
  },
  {
   "cell_type": "markdown",
   "metadata": {},
   "source": [
    "## Classification Using Different Classifiers"
   ]
  },
  {
   "cell_type": "markdown",
   "metadata": {},
   "source": [
    "## 1. Naive Bayes"
   ]
  },
  {
   "cell_type": "code",
   "execution_count": 14,
   "metadata": {},
   "outputs": [
    {
     "name": "stdout",
     "output_type": "stream",
     "text": [
      "('Score on Testing Data : %', 0.504950495049505)\n",
      "('Score on Training Data : %', 0.41935483870967744)\n"
     ]
    }
   ],
   "source": [
    "classifier =  BernoulliNB()\n",
    "\n",
    "classifier.fit(x_train,y_train)\n",
    "\n",
    "score_testing = classifier.score(x_test,y_test)\n",
    "score_training = classifier.score(x_train,y_train)\n",
    "\n",
    "\n",
    "print(\"Score on Testing Data : %\",score_testing)\n",
    "print(\"Score on Training Data : %\",score_training)"
   ]
  },
  {
   "cell_type": "markdown",
   "metadata": {},
   "source": [
    "## 2.Decision Tree"
   ]
  },
  {
   "cell_type": "code",
   "execution_count": 15,
   "metadata": {},
   "outputs": [
    {
     "data": {
      "text/plain": [
       "DecisionTreeClassifier(class_weight=None, criterion='gini', max_depth=None,\n",
       "            max_features=None, max_leaf_nodes=None,\n",
       "            min_impurity_decrease=0.0, min_impurity_split=None,\n",
       "            min_samples_leaf=1, min_samples_split=2,\n",
       "            min_weight_fraction_leaf=0.0, presort=False, random_state=None,\n",
       "            splitter='best')"
      ]
     },
     "execution_count": 15,
     "metadata": {},
     "output_type": "execute_result"
    }
   ],
   "source": [
    "dt = DecisionTreeClassifier()\n",
    "\n",
    "dt.fit(x_train,y_train)"
   ]
  },
  {
   "cell_type": "code",
   "execution_count": 16,
   "metadata": {},
   "outputs": [
    {
     "name": "stdout",
     "output_type": "stream",
     "text": [
      "('Score on Testing Data : %', 0.2871287128712871)\n",
      "('Score on Training Data : %', 0.9950372208436724)\n"
     ]
    }
   ],
   "source": [
    "score_testing_dt = dt.score(x_test,y_test)\n",
    "score_training_dt = dt.score(x_train,y_train)\n",
    "\n",
    "print(\"Score on Testing Data : %\",score_testing_dt)\n",
    "print(\"Score on Training Data : %\",score_training_dt)"
   ]
  },
  {
   "cell_type": "markdown",
   "metadata": {},
   "source": [
    "## 3. Support Vector Machine  OneVSRest Classifier"
   ]
  },
  {
   "cell_type": "code",
   "execution_count": 17,
   "metadata": {},
   "outputs": [],
   "source": [
    "from sklearn.multiclass import OneVsRestClassifier\n",
    "from sklearn.multiclass import OneVsOneClassifier\n",
    "from sklearn.svm import SVC"
   ]
  },
  {
   "cell_type": "markdown",
   "metadata": {},
   "source": [
    "## - OneVsRestClassifier"
   ]
  },
  {
   "cell_type": "code",
   "execution_count": 18,
   "metadata": {},
   "outputs": [
    {
     "name": "stdout",
     "output_type": "stream",
     "text": [
      "('Score on Testing Data : %', 0.42574257425742573)\n",
      "('Score on Trainig Data : %', 0.3771712158808933)\n"
     ]
    }
   ],
   "source": [
    "lr1 = OneVsRestClassifier(SVC(kernel='linear'))\n",
    "lr1.fit(x_train,y_train)\n",
    "\n",
    "score_testing_lr1 = lr1.score(x_test,y_test)\n",
    "score_training_lr1 = lr1.score(x_train,y_train)\n",
    "\n",
    "\n",
    "print('Score on Testing Data : %',score_testing_lr1)\n",
    "print('Score on Trainig Data : %',score_training_lr1)"
   ]
  },
  {
   "cell_type": "markdown",
   "metadata": {},
   "source": [
    "## - OneVsOneClassifier"
   ]
  },
  {
   "cell_type": "code",
   "execution_count": 19,
   "metadata": {},
   "outputs": [
    {
     "name": "stdout",
     "output_type": "stream",
     "text": [
      "('Score on Testing Data : %', 0.5544554455445545)\n",
      "('Score on Training Data : %', 0.43672456575682383)\n"
     ]
    }
   ],
   "source": [
    "\n",
    "lr2 = OneVsOneClassifier(SVC(kernel='linear'))\n",
    "lr2.fit(x_train,y_train)\n",
    "\n",
    "score_testing_lr2 = lr2.score(x_test,y_test)\n",
    "score_training_lr2 = lr2.score(x_train,y_train)\n",
    "\n",
    "\n",
    "print(\"Score on Testing Data : %\",score_testing_lr2)\n",
    "print(\"Score on Training Data : %\",score_training_lr2)"
   ]
  },
  {
   "cell_type": "markdown",
   "metadata": {},
   "source": [
    "## 4. Random Forrest"
   ]
  },
  {
   "cell_type": "code",
   "execution_count": 20,
   "metadata": {},
   "outputs": [
    {
     "name": "stderr",
     "output_type": "stream",
     "text": [
      "/usr/local/lib/python2.7/dist-packages/sklearn/ensemble/weight_boosting.py:29: DeprecationWarning: numpy.core.umath_tests is an internal NumPy module and should not be imported. It will be removed in a future NumPy release.\n",
      "  from numpy.core.umath_tests import inner1d\n"
     ]
    }
   ],
   "source": [
    "from sklearn.ensemble import RandomForestClassifier\n"
   ]
  },
  {
   "cell_type": "code",
   "execution_count": 21,
   "metadata": {},
   "outputs": [
    {
     "name": "stdout",
     "output_type": "stream",
     "text": [
      "('Score on Testing Data : %', 0.3465346534653465)\n",
      "('Score on Training Data : %', 0.9950372208436724)\n"
     ]
    }
   ],
   "source": [
    "rf = RandomForestClassifier(n_estimators=100)\n",
    "rf.fit(x_train,y_train)\n",
    "\n",
    "score_testing_rf = rf.score(x_test,y_test)\n",
    "score_training_rf = rf.score(x_train,y_train)\n",
    "\n",
    "\n",
    "print(\"Score on Testing Data : %\",score_testing_rf)\n",
    "print(\"Score on Training Data : %\",score_training_rf)"
   ]
  },
  {
   "cell_type": "markdown",
   "metadata": {},
   "source": [
    "## Recursive Feature Elimination with cross-validation for varifying the relevance of features chosen"
   ]
  },
  {
   "cell_type": "code",
   "execution_count": 24,
   "metadata": {},
   "outputs": [
    {
     "name": "stdout",
     "output_type": "stream",
     "text": [
      "Optimal number of features : 3\n",
      "[False False False False  True  True  True False False False False]\n"
     ]
    },
    {
     "data": {
      "image/png": "[encoded data removed]",
      "text/plain": [
       "<Figure size 432x288 with 1 Axes>"
      ]
     },
     "metadata": {
      "needs_background": "light"
     },
     "output_type": "display_data"
    }
   ],
   "source": [
    "estim=SVC(kernel='linear')\n",
    "\n",
    "rfecv = RFECV(estimator=estim, step=1, cv=StratifiedKFold(2),\n",
    "              scoring='accuracy')\n",
    "rfecv.fit(x_train,y_train)\n",
    "\n",
    "print(\"Optimal number of features : %d\" % rfecv.n_features_)\n",
    "print(rfecv.support_)\n",
    "\n",
    "plt.figure()\n",
    "plt.xlabel(\"Number of features selected\")\n",
    "plt.ylabel(\"Cross validation score (nb of correct classifications)\")\n",
    "plt.plot(range(1, len(rfecv.grid_scores_) + 1), rfecv.grid_scores_)\n",
    "plt.show()"
   ]
  },
  {
   "cell_type": "markdown",
   "metadata": {},
   "source": [
    "## Accuracy vs number of Features Graph shows a very low Variance on y- axis which means the acuuracy changes for about (0.02-0.03) for RFECV. Thus it shows we should not further decrease feature becuase it can cause in decrease in accuracy with new testing data."
   ]
  },
  {
   "cell_type": "code",
   "execution_count": null,
   "metadata": {},
   "outputs": [],
   "source": []
  }
 ],
 "metadata": {
  "kernelspec": {
   "display_name": "Python 2",
   "language": "python",
   "name": "python2"
  },
  "language_info": {
   "codemirror_mode": {
    "name": "ipython",
    "version": 2
   },
   "file_extension": ".py",
   "mimetype": "text/x-python",
   "name": "python",
   "nbconvert_exporter": "python",
   "pygments_lexer": "ipython2",
   "version": "2.7.12"
  }
 },
 "nbformat": 4,
 "nbformat_minor": 2
}
